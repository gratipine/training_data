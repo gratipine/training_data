{
 "cells": [
  {
   "cell_type": "markdown",
   "metadata": {},
   "source": [
    "The manual: http://data.atoc.org/sites/all/themes/atoc/files/RSPS5045.pdf\n",
    "\n",
    "The data: http://data.atoc.org/fares-data"
   ]
  },
  {
   "cell_type": "code",
   "execution_count": 1,
   "metadata": {},
   "outputs": [],
   "source": [
    "import pandas as pd"
   ]
  },
  {
   "cell_type": "markdown",
   "metadata": {},
   "source": [
    "### Flow file"
   ]
  },
  {
   "cell_type": "code",
   "execution_count": 34,
   "metadata": {},
   "outputs": [],
   "source": [
    "out = pd.read_table(\"../data/RJFAF575/RJFAF575.FFL\")"
   ]
  },
  {
   "cell_type": "code",
   "execution_count": 28,
   "metadata": {},
   "outputs": [
    {
     "data": {
      "text/html": [
       "<div>\n",
       "<style scoped>\n",
       "    .dataframe tbody tr th:only-of-type {\n",
       "        vertical-align: middle;\n",
       "    }\n",
       "\n",
       "    .dataframe tbody tr th {\n",
       "        vertical-align: top;\n",
       "    }\n",
       "\n",
       "    .dataframe thead th {\n",
       "        text-align: right;\n",
       "    }\n",
       "</style>\n",
       "<table border=\"1\" class=\"dataframe\">\n",
       "  <thead>\n",
       "    <tr style=\"text-align: right;\">\n",
       "      <th></th>\n",
       "      <th>/!! Start of file</th>\n",
       "    </tr>\n",
       "  </thead>\n",
       "  <tbody>\n",
       "    <tr>\n",
       "      <th>5</th>\n",
       "      <td>RF0027003201000000AS3112299902012020ATO01Y0000002</td>\n",
       "    </tr>\n",
       "    <tr>\n",
       "      <th>6</th>\n",
       "      <td>RF0027003301000000AS3112299902012020ATO01Y0000034</td>\n",
       "    </tr>\n",
       "    <tr>\n",
       "      <th>7</th>\n",
       "      <td>RF0027003401000000AS3112299902012020ATO01Y0000121</td>\n",
       "    </tr>\n",
       "    <tr>\n",
       "      <th>8</th>\n",
       "      <td>RF0027003501000000AS3112299902012020ATO01Y0000174</td>\n",
       "    </tr>\n",
       "    <tr>\n",
       "      <th>9</th>\n",
       "      <td>RF0027006401000000AS3112299902012020ATO01Y0000049</td>\n",
       "    </tr>\n",
       "  </tbody>\n",
       "</table>\n",
       "</div>"
      ],
      "text/plain": [
       "  /!! Start of file                                                               \n",
       "5  RF0027003201000000AS3112299902012020ATO01Y0000002                              \n",
       "6  RF0027003301000000AS3112299902012020ATO01Y0000034                              \n",
       "7  RF0027003401000000AS3112299902012020ATO01Y0000121                              \n",
       "8  RF0027003501000000AS3112299902012020ATO01Y0000174                              \n",
       "9  RF0027006401000000AS3112299902012020ATO01Y0000049                              "
      ]
     },
     "execution_count": 28,
     "metadata": {},
     "output_type": "execute_result"
    }
   ],
   "source": [
    "#out_truncated = \n",
    "out[5:].head()"
   ]
  },
  {
   "cell_type": "code",
   "execution_count": 26,
   "metadata": {},
   "outputs": [],
   "source": [
    "flow_data = out.copy()"
   ]
  },
  {
   "cell_type": "code",
   "execution_count": 39,
   "metadata": {},
   "outputs": [],
   "source": [
    "flow_data.rename(columns={\"/!! Start of file                                                               \":\"records\"}, inplace=True)"
   ]
  },
  {
   "cell_type": "code",
   "execution_count": 50,
   "metadata": {},
   "outputs": [],
   "source": [
    "flow_data[\"update_marker\"] = flow_data[\"records\"].str[0:1]\n",
    "flow_data[\"record_type\"] = flow_data[\"records\"].str[1:2]\n",
    "flow_data[\"origin_code\"] = flow_data[\"records\"].str[2:6]\n",
    "flow_data[\"destination_code\"] = flow_data[\"records\"].str[6:10]\n",
    "flow_data[\"route_code\"] = flow_data[\"records\"].str[10:15]\n",
    "flow_data[\"status_code\"] = flow_data[\"records\"].str[15:18]\n",
    "flow_data[\"usage_code\"] = flow_data[\"records\"].str[18:19]\n",
    "flow_data[\"direction\"] = flow_data[\"records\"].str[19:20]\n",
    "flow_data[\"end_date\"] = flow_data[\"records\"].str[20:28]\n",
    "flow_data[\"start_date\"] = flow_data[\"records\"].str[28:36]\n",
    "flow_data[\"toc\"] = flow_data[\"records\"].str[36:39]\n",
    "flow_data[\"cross_london_ind\"] = flow_data[\"records\"].str[39:40]"
   ]
  },
  {
   "cell_type": "code",
   "execution_count": 51,
   "metadata": {},
   "outputs": [
    {
     "data": {
      "text/html": [
       "<div>\n",
       "<style scoped>\n",
       "    .dataframe tbody tr th:only-of-type {\n",
       "        vertical-align: middle;\n",
       "    }\n",
       "\n",
       "    .dataframe tbody tr th {\n",
       "        vertical-align: top;\n",
       "    }\n",
       "\n",
       "    .dataframe thead th {\n",
       "        text-align: right;\n",
       "    }\n",
       "</style>\n",
       "<table border=\"1\" class=\"dataframe\">\n",
       "  <thead>\n",
       "    <tr style=\"text-align: right;\">\n",
       "      <th></th>\n",
       "      <th>records</th>\n",
       "      <th>update_marker</th>\n",
       "      <th>record_type</th>\n",
       "      <th>origin_code</th>\n",
       "      <th>destination_code</th>\n",
       "      <th>route_code</th>\n",
       "      <th>status_code</th>\n",
       "      <th>usage_code</th>\n",
       "      <th>direction</th>\n",
       "      <th>end_date</th>\n",
       "      <th>start_date</th>\n",
       "      <th>toc</th>\n",
       "      <th>cross_london_ind</th>\n",
       "    </tr>\n",
       "  </thead>\n",
       "  <tbody>\n",
       "    <tr>\n",
       "      <th>0</th>\n",
       "      <td>/!! Content type:  FFL                        ...</td>\n",
       "      <td>/</td>\n",
       "      <td>!</td>\n",
       "      <td>! Co</td>\n",
       "      <td>nten</td>\n",
       "      <td>t typ</td>\n",
       "      <td>e:</td>\n",
       "      <td></td>\n",
       "      <td>F</td>\n",
       "      <td>FL</td>\n",
       "      <td></td>\n",
       "      <td></td>\n",
       "      <td></td>\n",
       "    </tr>\n",
       "    <tr>\n",
       "      <th>1</th>\n",
       "      <td>/!! Sequence:      575                        ...</td>\n",
       "      <td>/</td>\n",
       "      <td>!</td>\n",
       "      <td>! Se</td>\n",
       "      <td>quen</td>\n",
       "      <td>ce:</td>\n",
       "      <td></td>\n",
       "      <td></td>\n",
       "      <td>5</td>\n",
       "      <td>75</td>\n",
       "      <td></td>\n",
       "      <td></td>\n",
       "      <td></td>\n",
       "    </tr>\n",
       "    <tr>\n",
       "      <th>2</th>\n",
       "      <td>/!! Records:       5938764                    ...</td>\n",
       "      <td>/</td>\n",
       "      <td>!</td>\n",
       "      <td>! Re</td>\n",
       "      <td>cord</td>\n",
       "      <td>s:</td>\n",
       "      <td></td>\n",
       "      <td></td>\n",
       "      <td>5</td>\n",
       "      <td>938764</td>\n",
       "      <td></td>\n",
       "      <td></td>\n",
       "      <td></td>\n",
       "    </tr>\n",
       "    <tr>\n",
       "      <th>3</th>\n",
       "      <td>/!! Generated:     18/05/2020                 ...</td>\n",
       "      <td>/</td>\n",
       "      <td>!</td>\n",
       "      <td>! Ge</td>\n",
       "      <td>nera</td>\n",
       "      <td>ted:</td>\n",
       "      <td></td>\n",
       "      <td></td>\n",
       "      <td>1</td>\n",
       "      <td>8/05/202</td>\n",
       "      <td>0</td>\n",
       "      <td></td>\n",
       "      <td></td>\n",
       "    </tr>\n",
       "    <tr>\n",
       "      <th>4</th>\n",
       "      <td>/!! Exporter:      RJIS                       ...</td>\n",
       "      <td>/</td>\n",
       "      <td>!</td>\n",
       "      <td>! Ex</td>\n",
       "      <td>port</td>\n",
       "      <td>er:</td>\n",
       "      <td></td>\n",
       "      <td></td>\n",
       "      <td>R</td>\n",
       "      <td>JIS</td>\n",
       "      <td></td>\n",
       "      <td></td>\n",
       "      <td></td>\n",
       "    </tr>\n",
       "    <tr>\n",
       "      <th>...</th>\n",
       "      <td>...</td>\n",
       "      <td>...</td>\n",
       "      <td>...</td>\n",
       "      <td>...</td>\n",
       "      <td>...</td>\n",
       "      <td>...</td>\n",
       "      <td>...</td>\n",
       "      <td>...</td>\n",
       "      <td>...</td>\n",
       "      <td>...</td>\n",
       "      <td>...</td>\n",
       "      <td>...</td>\n",
       "      <td>...</td>\n",
       "    </tr>\n",
       "    <tr>\n",
       "      <th>5938765</th>\n",
       "      <td>RT07364537DS00005080</td>\n",
       "      <td>R</td>\n",
       "      <td>T</td>\n",
       "      <td>0736</td>\n",
       "      <td>4537</td>\n",
       "      <td>DS000</td>\n",
       "      <td>050</td>\n",
       "      <td>8</td>\n",
       "      <td>0</td>\n",
       "      <td></td>\n",
       "      <td></td>\n",
       "      <td></td>\n",
       "      <td></td>\n",
       "    </tr>\n",
       "    <tr>\n",
       "      <th>5938766</th>\n",
       "      <td>RT0736453CDR00000940B1</td>\n",
       "      <td>R</td>\n",
       "      <td>T</td>\n",
       "      <td>0736</td>\n",
       "      <td>453C</td>\n",
       "      <td>DR000</td>\n",
       "      <td>009</td>\n",
       "      <td>4</td>\n",
       "      <td>0</td>\n",
       "      <td>B1</td>\n",
       "      <td></td>\n",
       "      <td></td>\n",
       "      <td></td>\n",
       "    </tr>\n",
       "    <tr>\n",
       "      <th>5938767</th>\n",
       "      <td>RT0736453SDR00001130</td>\n",
       "      <td>R</td>\n",
       "      <td>T</td>\n",
       "      <td>0736</td>\n",
       "      <td>453S</td>\n",
       "      <td>DR000</td>\n",
       "      <td>011</td>\n",
       "      <td>3</td>\n",
       "      <td>0</td>\n",
       "      <td></td>\n",
       "      <td></td>\n",
       "      <td></td>\n",
       "      <td></td>\n",
       "    </tr>\n",
       "    <tr>\n",
       "      <th>5938768</th>\n",
       "      <td>RT0736453SDS00000850</td>\n",
       "      <td>R</td>\n",
       "      <td>T</td>\n",
       "      <td>0736</td>\n",
       "      <td>453S</td>\n",
       "      <td>DS000</td>\n",
       "      <td>008</td>\n",
       "      <td>5</td>\n",
       "      <td>0</td>\n",
       "      <td></td>\n",
       "      <td></td>\n",
       "      <td></td>\n",
       "      <td></td>\n",
       "    </tr>\n",
       "    <tr>\n",
       "      <th>5938769</th>\n",
       "      <td>/!! End of file (18/05/2020)</td>\n",
       "      <td>/</td>\n",
       "      <td>!</td>\n",
       "      <td>! En</td>\n",
       "      <td>d of</td>\n",
       "      <td>file</td>\n",
       "      <td>(1</td>\n",
       "      <td>8</td>\n",
       "      <td>/</td>\n",
       "      <td>05/2020)</td>\n",
       "      <td></td>\n",
       "      <td></td>\n",
       "      <td></td>\n",
       "    </tr>\n",
       "  </tbody>\n",
       "</table>\n",
       "<p>5938770 rows × 13 columns</p>\n",
       "</div>"
      ],
      "text/plain": [
       "                                                   records update_marker  \\\n",
       "0        /!! Content type:  FFL                        ...             /   \n",
       "1        /!! Sequence:      575                        ...             /   \n",
       "2        /!! Records:       5938764                    ...             /   \n",
       "3        /!! Generated:     18/05/2020                 ...             /   \n",
       "4        /!! Exporter:      RJIS                       ...             /   \n",
       "...                                                    ...           ...   \n",
       "5938765                             RT07364537DS00005080               R   \n",
       "5938766                             RT0736453CDR00000940B1             R   \n",
       "5938767                             RT0736453SDR00001130               R   \n",
       "5938768                             RT0736453SDS00000850               R   \n",
       "5938769                       /!! End of file (18/05/2020)             /   \n",
       "\n",
       "        record_type origin_code destination_code route_code status_code  \\\n",
       "0                 !        ! Co             nten      t typ         e:    \n",
       "1                 !        ! Se             quen      ce:                 \n",
       "2                 !        ! Re             cord      s:                  \n",
       "3                 !        ! Ge             nera      ted:                \n",
       "4                 !        ! Ex             port      er:                 \n",
       "...             ...         ...              ...        ...         ...   \n",
       "5938765           T        0736             4537      DS000         050   \n",
       "5938766           T        0736             453C      DR000         009   \n",
       "5938767           T        0736             453S      DR000         011   \n",
       "5938768           T        0736             453S      DS000         008   \n",
       "5938769           !        ! En             d of       file          (1   \n",
       "\n",
       "        usage_code direction  end_date start_date  toc cross_london_ind  \n",
       "0                          F  FL                                         \n",
       "1                          5  75                                         \n",
       "2                          5  938764                                     \n",
       "3                          1  8/05/202   0                               \n",
       "4                          R  JIS                                        \n",
       "...            ...       ...       ...        ...  ...              ...  \n",
       "5938765          8         0                                             \n",
       "5938766          4         0        B1                                   \n",
       "5938767          3         0                                             \n",
       "5938768          5         0                                             \n",
       "5938769          8         /  05/2020)                                   \n",
       "\n",
       "[5938770 rows x 13 columns]"
      ]
     },
     "execution_count": 51,
     "metadata": {},
     "output_type": "execute_result"
    }
   ],
   "source": [
    "flow_data"
   ]
  },
  {
   "cell_type": "markdown",
   "metadata": {},
   "source": [
    "Locations file Locations, including group locations"
   ]
  },
  {
   "cell_type": "code",
   "execution_count": 10,
   "metadata": {},
   "outputs": [],
   "source": [
    "locations_file = pd.read_table(\"../data/RJFAF575/RJFAF575.LOC\")"
   ]
  },
  {
   "cell_type": "code",
   "execution_count": 20,
   "metadata": {},
   "outputs": [
    {
     "data": {
      "text/plain": [
       "array(['RG7000320200920191901201918012019LONDON ZONES 1-2     '],\n",
       "      dtype=object)"
      ]
     },
     "execution_count": 20,
     "metadata": {},
     "output_type": "execute_result"
    }
   ],
   "source": [
    "locations_file.values[5]"
   ]
  },
  {
   "cell_type": "code",
   "execution_count": 23,
   "metadata": {},
   "outputs": [
    {
     "data": {
      "text/plain": [
       "array(['RG7000320311229992109201918012019LONDON ZONES 1-2     '],\n",
       "      dtype=object)"
      ]
     },
     "execution_count": 23,
     "metadata": {},
     "output_type": "execute_result"
    }
   ],
   "source": [
    "locations_file.values[6]"
   ]
  },
  {
   "cell_type": "code",
   "execution_count": 24,
   "metadata": {},
   "outputs": [
    {
     "data": {
      "text/plain": [
       "array(['RG7000330200920191901201918012019LONDON ZONES 1-3     '],\n",
       "      dtype=object)"
      ]
     },
     "execution_count": 24,
     "metadata": {},
     "output_type": "execute_result"
    }
   ],
   "source": [
    "locations_file.values[7]"
   ]
  },
  {
   "cell_type": "markdown",
   "metadata": {},
   "source": [
    "### Data Feed"
   ]
  },
  {
   "cell_type": "code",
   "execution_count": null,
   "metadata": {},
   "outputs": [],
   "source": []
  }
 ],
 "metadata": {
  "kernelspec": {
   "display_name": "Python 3.8.3 64-bit ('.venv': venv)",
   "language": "python",
   "name": "python38364bitvenvvenvf21172dcc1f843adae9f5a782af609e9"
  },
  "language_info": {
   "codemirror_mode": {
    "name": "ipython",
    "version": 3
   },
   "file_extension": ".py",
   "mimetype": "text/x-python",
   "name": "python",
   "nbconvert_exporter": "python",
   "pygments_lexer": "ipython3",
   "version": "3.8.3"
  }
 },
 "nbformat": 4,
 "nbformat_minor": 4
}
