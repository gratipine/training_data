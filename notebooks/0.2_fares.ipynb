{
 "cells": [
  {
   "cell_type": "markdown",
   "metadata": {},
   "source": [
    "The manual: http://data.atoc.org/sites/all/themes/atoc/files/RSPS5045.pdf\n",
    "\n",
    "The data: http://data.atoc.org/fares-data"
   ]
  },
  {
   "cell_type": "code",
   "execution_count": 1,
   "metadata": {},
   "outputs": [],
   "source": [
    "import pandas as pd"
   ]
  },
  {
   "cell_type": "markdown",
   "metadata": {},
   "source": [
    "### Flow file"
   ]
  },
  {
   "cell_type": "code",
   "execution_count": 2,
   "metadata": {},
   "outputs": [],
   "source": [
    "out = pd.read_table(\"../data/RJFAF575/RJFAF575.FFL\")"
   ]
  },
  {
   "cell_type": "code",
   "execution_count": 3,
   "metadata": {},
   "outputs": [
    {
     "data": {
      "text/html": [
       "<div>\n",
       "<style scoped>\n",
       "    .dataframe tbody tr th:only-of-type {\n",
       "        vertical-align: middle;\n",
       "    }\n",
       "\n",
       "    .dataframe tbody tr th {\n",
       "        vertical-align: top;\n",
       "    }\n",
       "\n",
       "    .dataframe thead th {\n",
       "        text-align: right;\n",
       "    }\n",
       "</style>\n",
       "<table border=\"1\" class=\"dataframe\">\n",
       "  <thead>\n",
       "    <tr style=\"text-align: right;\">\n",
       "      <th></th>\n",
       "      <th>/!! Start of file</th>\n",
       "    </tr>\n",
       "  </thead>\n",
       "  <tbody>\n",
       "    <tr>\n",
       "      <th>5</th>\n",
       "      <td>RF0027003201000000AS3112299902012020ATO01Y0000002</td>\n",
       "    </tr>\n",
       "    <tr>\n",
       "      <th>6</th>\n",
       "      <td>RF0027003301000000AS3112299902012020ATO01Y0000034</td>\n",
       "    </tr>\n",
       "    <tr>\n",
       "      <th>7</th>\n",
       "      <td>RF0027003401000000AS3112299902012020ATO01Y0000121</td>\n",
       "    </tr>\n",
       "    <tr>\n",
       "      <th>8</th>\n",
       "      <td>RF0027003501000000AS3112299902012020ATO01Y0000174</td>\n",
       "    </tr>\n",
       "    <tr>\n",
       "      <th>9</th>\n",
       "      <td>RF0027006401000000AS3112299902012020ATO01Y0000049</td>\n",
       "    </tr>\n",
       "  </tbody>\n",
       "</table>\n",
       "</div>"
      ],
      "text/plain": [
       "  /!! Start of file                                                               \n",
       "5  RF0027003201000000AS3112299902012020ATO01Y0000002                              \n",
       "6  RF0027003301000000AS3112299902012020ATO01Y0000034                              \n",
       "7  RF0027003401000000AS3112299902012020ATO01Y0000121                              \n",
       "8  RF0027003501000000AS3112299902012020ATO01Y0000174                              \n",
       "9  RF0027006401000000AS3112299902012020ATO01Y0000049                              "
      ]
     },
     "execution_count": 3,
     "metadata": {},
     "output_type": "execute_result"
    }
   ],
   "source": [
    "#out_truncated = \n",
    "out[5:].head()"
   ]
  },
  {
   "cell_type": "code",
   "execution_count": 53,
   "metadata": {},
   "outputs": [],
   "source": [
    "flow_data = out.copy()"
   ]
  },
  {
   "cell_type": "code",
   "execution_count": 54,
   "metadata": {},
   "outputs": [],
   "source": [
    "flow_data.rename(columns={\"/!! Start of file                                                               \":\"records\"}, inplace=True)"
   ]
  },
  {
   "cell_type": "code",
   "execution_count": 55,
   "metadata": {},
   "outputs": [],
   "source": [
    "# this dictinobary contains information for what type of ticket there is. \n",
    "dict_flow_records = {\n",
    "    \"update_marker\": (0, 1),\n",
    "    \"record_type\": (1, 2),\n",
    "    \"origin_code\": (2, 6),\n",
    "    \"destination_code\": (6, 10),\n",
    "    \"route_code\": (10, 15),\n",
    "    \"status_code\": (15, 18), \n",
    "    \"usage_code\": (18, 19),\n",
    "    \"direction\": (19, 20),\n",
    "    \"end_date\": (20, 28),\n",
    "    \"start_date\": (28, 36),\n",
    "    \"toc\": (36, 39), \n",
    "    \"cross_london_ind\": (39, 40),\n",
    "    \"non_standard_disc_ind\": (40, 41),\n",
    "    \"publication_ind\": (41, 42),\n",
    "    \"flow_id\": (42, 49)\n",
    "}"
   ]
  },
  {
   "cell_type": "code",
   "execution_count": 56,
   "metadata": {},
   "outputs": [],
   "source": [
    "# this dictionary holds the information for for what the fares are for the different types\n",
    "# it joins to the previous one by the flow_id\n",
    "dict_fare_records = {\n",
    "    \"update_marker\": (0, 1),\n",
    "    \"record_type\": (1, 2),\n",
    "    \"flow_id\": (2, 9),\n",
    "    \"ticket_code\": (9, 12),\n",
    "    \"fare\": (12, 20), # in pence\n",
    "    \"restriction_code\": (20, 22)\n",
    "}"
   ]
  },
  {
   "cell_type": "code",
   "execution_count": 57,
   "metadata": {},
   "outputs": [],
   "source": [
    "lengths_of_records = flow_data[\"records\"].str.len()"
   ]
  },
  {
   "cell_type": "code",
   "execution_count": 58,
   "metadata": {},
   "outputs": [],
   "source": [
    "flow_records = flow_data[lengths_of_records == 49].copy()\n",
    "\n",
    "for key, pair_indices in dict_flow_records.items():\n",
    "    flow_records[key] = flow_records[\"records\"].str[pair_indices[0]:pair_indices[1]]\n",
    "    \n",
    "fare_records = flow_data[lengths_of_records == 22].copy()\n",
    "\n",
    "for key, pair_indices in dict_fare_records.items():\n",
    "    fare_records[key] = fare_records[\"records\"].str[pair_indices[0]:pair_indices[1]]"
   ]
  },
  {
   "cell_type": "code",
   "execution_count": 59,
   "metadata": {},
   "outputs": [
    {
     "data": {
      "text/html": [
       "<div>\n",
       "<style scoped>\n",
       "    .dataframe tbody tr th:only-of-type {\n",
       "        vertical-align: middle;\n",
       "    }\n",
       "\n",
       "    .dataframe tbody tr th {\n",
       "        vertical-align: top;\n",
       "    }\n",
       "\n",
       "    .dataframe thead th {\n",
       "        text-align: right;\n",
       "    }\n",
       "</style>\n",
       "<table border=\"1\" class=\"dataframe\">\n",
       "  <thead>\n",
       "    <tr style=\"text-align: right;\">\n",
       "      <th></th>\n",
       "      <th>records</th>\n",
       "    </tr>\n",
       "  </thead>\n",
       "  <tbody>\n",
       "    <tr>\n",
       "      <th>5938765</th>\n",
       "      <td>RT07364537DS00005080</td>\n",
       "    </tr>\n",
       "    <tr>\n",
       "      <th>5938766</th>\n",
       "      <td>RT0736453CDR00000940B1</td>\n",
       "    </tr>\n",
       "    <tr>\n",
       "      <th>5938767</th>\n",
       "      <td>RT0736453SDR00001130</td>\n",
       "    </tr>\n",
       "    <tr>\n",
       "      <th>5938768</th>\n",
       "      <td>RT0736453SDS00000850</td>\n",
       "    </tr>\n",
       "    <tr>\n",
       "      <th>5938769</th>\n",
       "      <td>/!! End of file (18/05/2020)</td>\n",
       "    </tr>\n",
       "  </tbody>\n",
       "</table>\n",
       "</div>"
      ],
      "text/plain": [
       "                              records\n",
       "5938765        RT07364537DS00005080  \n",
       "5938766        RT0736453CDR00000940B1\n",
       "5938767        RT0736453SDR00001130  \n",
       "5938768        RT0736453SDS00000850  \n",
       "5938769  /!! End of file (18/05/2020)"
      ]
     },
     "execution_count": 59,
     "metadata": {},
     "output_type": "execute_result"
    }
   ],
   "source": [
    "flow_data.tail()"
   ]
  },
  {
   "cell_type": "code",
   "execution_count": 60,
   "metadata": {},
   "outputs": [],
   "source": [
    "merged_data = flow_records.merge(\n",
    "    fare_records,\n",
    "    on=[\"flow_id\", \"update_marker\"])"
   ]
  },
  {
   "cell_type": "code",
   "execution_count": null,
   "metadata": {},
   "outputs": [],
   "source": []
  },
  {
   "cell_type": "code",
   "execution_count": 49,
   "metadata": {},
   "outputs": [
    {
     "data": {
      "text/plain": [
       "0.0"
      ]
     },
     "execution_count": 49,
     "metadata": {},
     "output_type": "execute_result"
    }
   ],
   "source": [
    "sum(merged_data[\"origin_code_x\"] == merged_data[\"origin_code_y\"]) / len(merged_data)"
   ]
  },
  {
   "cell_type": "code",
   "execution_count": 61,
   "metadata": {},
   "outputs": [
    {
     "data": {
      "text/html": [
       "<div>\n",
       "<style scoped>\n",
       "    .dataframe tbody tr th:only-of-type {\n",
       "        vertical-align: middle;\n",
       "    }\n",
       "\n",
       "    .dataframe tbody tr th {\n",
       "        vertical-align: top;\n",
       "    }\n",
       "\n",
       "    .dataframe thead th {\n",
       "        text-align: right;\n",
       "    }\n",
       "</style>\n",
       "<table border=\"1\" class=\"dataframe\">\n",
       "  <thead>\n",
       "    <tr style=\"text-align: right;\">\n",
       "      <th></th>\n",
       "      <th>records_x</th>\n",
       "      <th>update_marker</th>\n",
       "      <th>record_type_x</th>\n",
       "      <th>origin_code</th>\n",
       "      <th>destination_code</th>\n",
       "      <th>route_code</th>\n",
       "      <th>status_code</th>\n",
       "      <th>usage_code</th>\n",
       "      <th>direction</th>\n",
       "      <th>end_date</th>\n",
       "      <th>...</th>\n",
       "      <th>toc</th>\n",
       "      <th>cross_london_ind</th>\n",
       "      <th>non_standard_disc_ind</th>\n",
       "      <th>publication_ind</th>\n",
       "      <th>flow_id</th>\n",
       "      <th>records_y</th>\n",
       "      <th>record_type_y</th>\n",
       "      <th>ticket_code</th>\n",
       "      <th>fare</th>\n",
       "      <th>restriction_code</th>\n",
       "    </tr>\n",
       "  </thead>\n",
       "  <tbody>\n",
       "    <tr>\n",
       "      <th>0</th>\n",
       "      <td>RF0027003201000000AS3112299902012020ATO01Y0000002</td>\n",
       "      <td>R</td>\n",
       "      <td>F</td>\n",
       "      <td>0027</td>\n",
       "      <td>0032</td>\n",
       "      <td>01000</td>\n",
       "      <td>000</td>\n",
       "      <td>A</td>\n",
       "      <td>S</td>\n",
       "      <td>31122999</td>\n",
       "      <td>...</td>\n",
       "      <td>ATO</td>\n",
       "      <td>0</td>\n",
       "      <td>1</td>\n",
       "      <td>Y</td>\n",
       "      <td>0000002</td>\n",
       "      <td>RT00000027TF00005420</td>\n",
       "      <td>T</td>\n",
       "      <td>7TF</td>\n",
       "      <td>00005420</td>\n",
       "      <td></td>\n",
       "    </tr>\n",
       "    <tr>\n",
       "      <th>1</th>\n",
       "      <td>RF0027003201000000AS3112299902012020ATO01Y0000002</td>\n",
       "      <td>R</td>\n",
       "      <td>F</td>\n",
       "      <td>0027</td>\n",
       "      <td>0032</td>\n",
       "      <td>01000</td>\n",
       "      <td>000</td>\n",
       "      <td>A</td>\n",
       "      <td>S</td>\n",
       "      <td>31122999</td>\n",
       "      <td>...</td>\n",
       "      <td>ATO</td>\n",
       "      <td>0</td>\n",
       "      <td>1</td>\n",
       "      <td>Y</td>\n",
       "      <td>0000002</td>\n",
       "      <td>RT00000027TS00003610</td>\n",
       "      <td>T</td>\n",
       "      <td>7TS</td>\n",
       "      <td>00003610</td>\n",
       "      <td></td>\n",
       "    </tr>\n",
       "    <tr>\n",
       "      <th>2</th>\n",
       "      <td>RF0027003301000000AS3112299902012020ATO01Y0000034</td>\n",
       "      <td>R</td>\n",
       "      <td>F</td>\n",
       "      <td>0027</td>\n",
       "      <td>0033</td>\n",
       "      <td>01000</td>\n",
       "      <td>000</td>\n",
       "      <td>A</td>\n",
       "      <td>S</td>\n",
       "      <td>31122999</td>\n",
       "      <td>...</td>\n",
       "      <td>ATO</td>\n",
       "      <td>0</td>\n",
       "      <td>1</td>\n",
       "      <td>Y</td>\n",
       "      <td>0000034</td>\n",
       "      <td>RT00000347TF00006360</td>\n",
       "      <td>T</td>\n",
       "      <td>7TF</td>\n",
       "      <td>00006360</td>\n",
       "      <td></td>\n",
       "    </tr>\n",
       "    <tr>\n",
       "      <th>3</th>\n",
       "      <td>RF0027003301000000AS3112299902012020ATO01Y0000034</td>\n",
       "      <td>R</td>\n",
       "      <td>F</td>\n",
       "      <td>0027</td>\n",
       "      <td>0033</td>\n",
       "      <td>01000</td>\n",
       "      <td>000</td>\n",
       "      <td>A</td>\n",
       "      <td>S</td>\n",
       "      <td>31122999</td>\n",
       "      <td>...</td>\n",
       "      <td>ATO</td>\n",
       "      <td>0</td>\n",
       "      <td>1</td>\n",
       "      <td>Y</td>\n",
       "      <td>0000034</td>\n",
       "      <td>RT00000347TS00004240</td>\n",
       "      <td>T</td>\n",
       "      <td>7TS</td>\n",
       "      <td>00004240</td>\n",
       "      <td></td>\n",
       "    </tr>\n",
       "    <tr>\n",
       "      <th>4</th>\n",
       "      <td>RF0027003401000000AS3112299902012020ATO01Y0000121</td>\n",
       "      <td>R</td>\n",
       "      <td>F</td>\n",
       "      <td>0027</td>\n",
       "      <td>0034</td>\n",
       "      <td>01000</td>\n",
       "      <td>000</td>\n",
       "      <td>A</td>\n",
       "      <td>S</td>\n",
       "      <td>31122999</td>\n",
       "      <td>...</td>\n",
       "      <td>ATO</td>\n",
       "      <td>0</td>\n",
       "      <td>1</td>\n",
       "      <td>Y</td>\n",
       "      <td>0000121</td>\n",
       "      <td>RT00001217TF00007790</td>\n",
       "      <td>T</td>\n",
       "      <td>7TF</td>\n",
       "      <td>00007790</td>\n",
       "      <td></td>\n",
       "    </tr>\n",
       "  </tbody>\n",
       "</table>\n",
       "<p>5 rows × 21 columns</p>\n",
       "</div>"
      ],
      "text/plain": [
       "                                           records_x update_marker  \\\n",
       "0  RF0027003201000000AS3112299902012020ATO01Y0000002             R   \n",
       "1  RF0027003201000000AS3112299902012020ATO01Y0000002             R   \n",
       "2  RF0027003301000000AS3112299902012020ATO01Y0000034             R   \n",
       "3  RF0027003301000000AS3112299902012020ATO01Y0000034             R   \n",
       "4  RF0027003401000000AS3112299902012020ATO01Y0000121             R   \n",
       "\n",
       "  record_type_x origin_code destination_code route_code status_code  \\\n",
       "0             F        0027             0032      01000         000   \n",
       "1             F        0027             0032      01000         000   \n",
       "2             F        0027             0033      01000         000   \n",
       "3             F        0027             0033      01000         000   \n",
       "4             F        0027             0034      01000         000   \n",
       "\n",
       "  usage_code direction  end_date  ...  toc cross_london_ind  \\\n",
       "0          A         S  31122999  ...  ATO                0   \n",
       "1          A         S  31122999  ...  ATO                0   \n",
       "2          A         S  31122999  ...  ATO                0   \n",
       "3          A         S  31122999  ...  ATO                0   \n",
       "4          A         S  31122999  ...  ATO                0   \n",
       "\n",
       "  non_standard_disc_ind publication_ind  flow_id               records_y  \\\n",
       "0                     1               Y  0000002  RT00000027TF00005420     \n",
       "1                     1               Y  0000002  RT00000027TS00003610     \n",
       "2                     1               Y  0000034  RT00000347TF00006360     \n",
       "3                     1               Y  0000034  RT00000347TS00004240     \n",
       "4                     1               Y  0000121  RT00001217TF00007790     \n",
       "\n",
       "  record_type_y ticket_code      fare restriction_code  \n",
       "0             T         7TF  00005420                   \n",
       "1             T         7TS  00003610                   \n",
       "2             T         7TF  00006360                   \n",
       "3             T         7TS  00004240                   \n",
       "4             T         7TF  00007790                   \n",
       "\n",
       "[5 rows x 21 columns]"
      ]
     },
     "execution_count": 61,
     "metadata": {},
     "output_type": "execute_result"
    }
   ],
   "source": [
    "merged_data.head()"
   ]
  },
  {
   "cell_type": "markdown",
   "metadata": {},
   "source": [
    "## Locations file\n",
    "Locations, including group locations"
   ]
  },
  {
   "cell_type": "code",
   "execution_count": 62,
   "metadata": {},
   "outputs": [],
   "source": [
    "locations_file = pd.read_table(\"../data/RJFAF575/RJFAF575.LOC\")"
   ]
  },
  {
   "cell_type": "code",
   "execution_count": 69,
   "metadata": {},
   "outputs": [],
   "source": [
    "locations_file.rename(\n",
    "    columns={'/!! Start of file                                                               ':\"records\"},\n",
    "    inplace=True)"
   ]
  },
  {
   "cell_type": "code",
   "execution_count": 70,
   "metadata": {},
   "outputs": [],
   "source": [
    "dictionary_locations = {\n",
    "    \"update_marker\": (0, 1),\n",
    "    \"record_type\": (1, 2),\n",
    "    \"uic_code\": (2, 9),\n",
    "    \"end_date\": (9, 17), \n",
    "    \"start_date\": (17, 25),\n",
    "    \"quote_date\": (25, 33),\n",
    "    \"admin_area_code\": (33, 36),\n",
    "    \"nlc_code\": (36, 40),\n",
    "    \"description\": (40, 56),\n",
    "    \"crs_code\": (56, 59),\n",
    "    \"resv_code\": (59, 64),\n",
    "    \"ers_country\": (64, 66),\n",
    "    \"ers_code\": (66, 69),\n",
    "    \"fare_group\": (69, 75),\n",
    "    \"county\": (75, 77),\n",
    "    \"pte_code\": (77, 79),\n",
    "    \"zone_no\": (79, 83),\n",
    "    \"zone_ind\": (83, 85),\n",
    "    \"region\": (85, 86),\n",
    "    \"hierarchy\": (86, 87),\n",
    "    \"cc_desc_out\": (87, 128),\n",
    "    \"cc_desc_rtn\": (128, 144),\n",
    "    \"atb_desc_out\": (144, 204),\n",
    "    \"atb_desc_rtn\": (204, 234),\n",
    "    \"special_facilities\": (234, 260),\n",
    "    \"lul_direction_ind\": (260, 261),\n",
    "    \"lul_uts_mode\": (261, 262),\n",
    "    \"lul_zone_1\": (262, 263),\n",
    "    \"lul_zone_2\": (263, 264),\n",
    "    \"lul_zone_3\": (264, 265),\n",
    "    \"lul_zone_4\": (265, 266),\n",
    "    \"lul_zone_5\": (266, 267),\n",
    "    \"lul_zone_6\": (267, 268),\n",
    "    \"lul_uts_london_stn\": (268, 269),\n",
    "    \"uts_code\": (269, 272),\n",
    "    \"uts_a_code\": (272, 275),\n",
    "    \"uts_ptr_bias\": (275, 276),\n",
    "    \"uts_offset\": (276, 277),\n",
    "    \"uts_north\": (277, 280),\n",
    "    \"uts_east\": (280, 283),\n",
    "    \"uts_south\": (283, 286),\n",
    "    \"uts_west\": (286, 289)\n",
    "}"
   ]
  },
  {
   "cell_type": "code",
   "execution_count": 71,
   "metadata": {},
   "outputs": [],
   "source": [
    "dict_associated_stations = {\n",
    "    \"update_marker\": (0, 1),\n",
    "    \"record_type\": (1, 2), # should be A\n",
    "    \"uic_code\": (2, 9),\n",
    "    \"end_date\": (9, 17),\n",
    "    \"assoc_uic_code\": (17, 24),\n",
    "    \"assoc_crs_code\": (24, 27)\n",
    "}"
   ]
  },
  {
   "cell_type": "code",
   "execution_count": 72,
   "metadata": {},
   "outputs": [],
   "source": [
    "dict_railcard_geography = {\n",
    "    \"update_marker\": (0, 1),\n",
    "    \"record_type\": (1, 2),\n",
    "    \"uic_code\": (2, 9),\n",
    "    \"railcard_code\": (9, 12),\n",
    "    \"end_date\": (12, 20)\n",
    "}"
   ]
  },
  {
   "cell_type": "code",
   "execution_count": 73,
   "metadata": {},
   "outputs": [],
   "source": [
    "dict_synonym = {\n",
    "    \"update_marker\": (0, 1),\n",
    "    \"record_type\": (1, 2), # \"S\"\n",
    "    \"uic_code\": (2, 9),\n",
    "    \"end_date\": (9, 17),\n",
    "    \"start_date\": (17, 25),\n",
    "    \"description\": (25, 41)\n",
    "}"
   ]
  },
  {
   "cell_type": "code",
   "execution_count": 74,
   "metadata": {},
   "outputs": [],
   "source": [
    "lengths_of_records_locations = locations_file[\"records\"].str.len()"
   ]
  },
  {
   "cell_type": "code",
   "execution_count": 75,
   "metadata": {},
   "outputs": [
    {
     "data": {
      "text/plain": [
       "0         80\n",
       "1         80\n",
       "2         80\n",
       "3         80\n",
       "4         80\n",
       "          ..\n",
       "425056    41\n",
       "425057    41\n",
       "425058    41\n",
       "425059    41\n",
       "425060    28\n",
       "Name: records, Length: 425061, dtype: int64"
      ]
     },
     "execution_count": 75,
     "metadata": {},
     "output_type": "execute_result"
    }
   ],
   "source": [
    "lengths_of_records_locations"
   ]
  },
  {
   "cell_type": "code",
   "execution_count": 24,
   "metadata": {},
   "outputs": [
    {
     "data": {
      "text/plain": [
       "array(['RG7000330200920191901201918012019LONDON ZONES 1-3     '],\n",
       "      dtype=object)"
      ]
     },
     "execution_count": 24,
     "metadata": {},
     "output_type": "execute_result"
    }
   ],
   "source": [
    "locations_file.values[7]"
   ]
  },
  {
   "cell_type": "markdown",
   "metadata": {},
   "source": [
    "### Data Feed"
   ]
  },
  {
   "cell_type": "code",
   "execution_count": null,
   "metadata": {},
   "outputs": [],
   "source": []
  }
 ],
 "metadata": {
  "kernelspec": {
   "display_name": "Python 3.8.3 64-bit ('.venv': venv)",
   "language": "python",
   "name": "python38364bitvenvvenvf21172dcc1f843adae9f5a782af609e9"
  },
  "language_info": {
   "codemirror_mode": {
    "name": "ipython",
    "version": 3
   },
   "file_extension": ".py",
   "mimetype": "text/x-python",
   "name": "python",
   "nbconvert_exporter": "python",
   "pygments_lexer": "ipython3",
   "version": "3.8.3"
  }
 },
 "nbformat": 4,
 "nbformat_minor": 4
}
