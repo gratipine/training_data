{
 "cells": [
  {
   "cell_type": "markdown",
   "metadata": {},
   "source": [
    "The manual: http://data.atoc.org/sites/all/themes/atoc/files/RSPS5045.pdf\n",
    "\n",
    "The data: http://data.atoc.org/fares-data"
   ]
  },
  {
   "cell_type": "code",
   "execution_count": 1,
   "metadata": {},
   "outputs": [],
   "source": [
    "import pandas as pd\n",
    "import sys\n",
    "sys.path.append(\"./..\")\n",
    "\n",
    "from src.data_prep import create_records_table\n",
    "import config.indices_of_records as dicts"
   ]
  },
  {
   "cell_type": "markdown",
   "metadata": {},
   "source": [
    "### Flow file"
   ]
  },
  {
   "cell_type": "code",
   "execution_count": 2,
   "metadata": {},
   "outputs": [],
   "source": [
    "out = pd.read_table(\"../data/RJFAF575/RJFAF575.FFL\")"
   ]
  },
  {
   "cell_type": "code",
   "execution_count": 3,
   "metadata": {},
   "outputs": [],
   "source": [
    "flow_data = out.copy()"
   ]
  },
  {
   "cell_type": "code",
   "execution_count": 4,
   "metadata": {},
   "outputs": [],
   "source": [
    "flow_data.rename(columns={\"/!! Start of file                                                               \":\"records\"}, inplace=True)"
   ]
  },
  {
   "cell_type": "code",
   "execution_count": 5,
   "metadata": {},
   "outputs": [],
   "source": [
    "lengths_of_records = flow_data[\"records\"].str.len()"
   ]
  },
  {
   "cell_type": "code",
   "execution_count": 6,
   "metadata": {},
   "outputs": [],
   "source": [
    "flow_records = create_records_table(\n",
    "    relevant_dictionary=dicts.dict_flow_records,\n",
    "    table_with_records=flow_data, \n",
    "    lengths_of_records=lengths_of_records)\n",
    "\n",
    "fare_records = create_records_table(\n",
    "    relevant_dictionary=dicts.dict_fare_records,\n",
    "    table_with_records=flow_data, \n",
    "    lengths_of_records=lengths_of_records)"
   ]
  },
  {
   "cell_type": "code",
   "execution_count": 7,
   "metadata": {},
   "outputs": [],
   "source": [
    "merged_data = flow_records.merge(\n",
    "    fare_records,\n",
    "    on=[\"flow_id\", \"update_marker\"])"
   ]
  },
  {
   "cell_type": "code",
   "execution_count": 8,
   "metadata": {},
   "outputs": [
    {
     "data": {
      "text/html": [
       "<div>\n",
       "<style scoped>\n",
       "    .dataframe tbody tr th:only-of-type {\n",
       "        vertical-align: middle;\n",
       "    }\n",
       "\n",
       "    .dataframe tbody tr th {\n",
       "        vertical-align: top;\n",
       "    }\n",
       "\n",
       "    .dataframe thead th {\n",
       "        text-align: right;\n",
       "    }\n",
       "</style>\n",
       "<table border=\"1\" class=\"dataframe\">\n",
       "  <thead>\n",
       "    <tr style=\"text-align: right;\">\n",
       "      <th></th>\n",
       "      <th>records_x</th>\n",
       "      <th>update_marker</th>\n",
       "      <th>record_type_x</th>\n",
       "      <th>origin_code</th>\n",
       "      <th>destination_code</th>\n",
       "      <th>route_code</th>\n",
       "      <th>status_code</th>\n",
       "      <th>usage_code</th>\n",
       "      <th>direction</th>\n",
       "      <th>end_date</th>\n",
       "      <th>...</th>\n",
       "      <th>toc</th>\n",
       "      <th>cross_london_ind</th>\n",
       "      <th>non_standard_disc_ind</th>\n",
       "      <th>publication_ind</th>\n",
       "      <th>flow_id</th>\n",
       "      <th>records_y</th>\n",
       "      <th>record_type_y</th>\n",
       "      <th>ticket_code</th>\n",
       "      <th>fare</th>\n",
       "      <th>restriction_code</th>\n",
       "    </tr>\n",
       "  </thead>\n",
       "  <tbody>\n",
       "    <tr>\n",
       "      <th>0</th>\n",
       "      <td>RF0027003201000000AS3112299902012020ATO01Y0000002</td>\n",
       "      <td>R</td>\n",
       "      <td>F</td>\n",
       "      <td>0027</td>\n",
       "      <td>0032</td>\n",
       "      <td>01000</td>\n",
       "      <td>000</td>\n",
       "      <td>A</td>\n",
       "      <td>S</td>\n",
       "      <td>31122999</td>\n",
       "      <td>...</td>\n",
       "      <td>ATO</td>\n",
       "      <td>0</td>\n",
       "      <td>1</td>\n",
       "      <td>Y</td>\n",
       "      <td>0000002</td>\n",
       "      <td>RT00000027TF00005420</td>\n",
       "      <td>T</td>\n",
       "      <td>7TF</td>\n",
       "      <td>00005420</td>\n",
       "      <td></td>\n",
       "    </tr>\n",
       "    <tr>\n",
       "      <th>1</th>\n",
       "      <td>RF0027003201000000AS3112299902012020ATO01Y0000002</td>\n",
       "      <td>R</td>\n",
       "      <td>F</td>\n",
       "      <td>0027</td>\n",
       "      <td>0032</td>\n",
       "      <td>01000</td>\n",
       "      <td>000</td>\n",
       "      <td>A</td>\n",
       "      <td>S</td>\n",
       "      <td>31122999</td>\n",
       "      <td>...</td>\n",
       "      <td>ATO</td>\n",
       "      <td>0</td>\n",
       "      <td>1</td>\n",
       "      <td>Y</td>\n",
       "      <td>0000002</td>\n",
       "      <td>RT00000027TS00003610</td>\n",
       "      <td>T</td>\n",
       "      <td>7TS</td>\n",
       "      <td>00003610</td>\n",
       "      <td></td>\n",
       "    </tr>\n",
       "    <tr>\n",
       "      <th>2</th>\n",
       "      <td>RF0027003301000000AS3112299902012020ATO01Y0000034</td>\n",
       "      <td>R</td>\n",
       "      <td>F</td>\n",
       "      <td>0027</td>\n",
       "      <td>0033</td>\n",
       "      <td>01000</td>\n",
       "      <td>000</td>\n",
       "      <td>A</td>\n",
       "      <td>S</td>\n",
       "      <td>31122999</td>\n",
       "      <td>...</td>\n",
       "      <td>ATO</td>\n",
       "      <td>0</td>\n",
       "      <td>1</td>\n",
       "      <td>Y</td>\n",
       "      <td>0000034</td>\n",
       "      <td>RT00000347TF00006360</td>\n",
       "      <td>T</td>\n",
       "      <td>7TF</td>\n",
       "      <td>00006360</td>\n",
       "      <td></td>\n",
       "    </tr>\n",
       "    <tr>\n",
       "      <th>3</th>\n",
       "      <td>RF0027003301000000AS3112299902012020ATO01Y0000034</td>\n",
       "      <td>R</td>\n",
       "      <td>F</td>\n",
       "      <td>0027</td>\n",
       "      <td>0033</td>\n",
       "      <td>01000</td>\n",
       "      <td>000</td>\n",
       "      <td>A</td>\n",
       "      <td>S</td>\n",
       "      <td>31122999</td>\n",
       "      <td>...</td>\n",
       "      <td>ATO</td>\n",
       "      <td>0</td>\n",
       "      <td>1</td>\n",
       "      <td>Y</td>\n",
       "      <td>0000034</td>\n",
       "      <td>RT00000347TS00004240</td>\n",
       "      <td>T</td>\n",
       "      <td>7TS</td>\n",
       "      <td>00004240</td>\n",
       "      <td></td>\n",
       "    </tr>\n",
       "    <tr>\n",
       "      <th>4</th>\n",
       "      <td>RF0027003401000000AS3112299902012020ATO01Y0000121</td>\n",
       "      <td>R</td>\n",
       "      <td>F</td>\n",
       "      <td>0027</td>\n",
       "      <td>0034</td>\n",
       "      <td>01000</td>\n",
       "      <td>000</td>\n",
       "      <td>A</td>\n",
       "      <td>S</td>\n",
       "      <td>31122999</td>\n",
       "      <td>...</td>\n",
       "      <td>ATO</td>\n",
       "      <td>0</td>\n",
       "      <td>1</td>\n",
       "      <td>Y</td>\n",
       "      <td>0000121</td>\n",
       "      <td>RT00001217TF00007790</td>\n",
       "      <td>T</td>\n",
       "      <td>7TF</td>\n",
       "      <td>00007790</td>\n",
       "      <td></td>\n",
       "    </tr>\n",
       "  </tbody>\n",
       "</table>\n",
       "<p>5 rows × 21 columns</p>\n",
       "</div>"
      ],
      "text/plain": [
       "                                           records_x update_marker  \\\n",
       "0  RF0027003201000000AS3112299902012020ATO01Y0000002             R   \n",
       "1  RF0027003201000000AS3112299902012020ATO01Y0000002             R   \n",
       "2  RF0027003301000000AS3112299902012020ATO01Y0000034             R   \n",
       "3  RF0027003301000000AS3112299902012020ATO01Y0000034             R   \n",
       "4  RF0027003401000000AS3112299902012020ATO01Y0000121             R   \n",
       "\n",
       "  record_type_x origin_code destination_code route_code status_code  \\\n",
       "0             F        0027             0032      01000         000   \n",
       "1             F        0027             0032      01000         000   \n",
       "2             F        0027             0033      01000         000   \n",
       "3             F        0027             0033      01000         000   \n",
       "4             F        0027             0034      01000         000   \n",
       "\n",
       "  usage_code direction  end_date  ...  toc cross_london_ind  \\\n",
       "0          A         S  31122999  ...  ATO                0   \n",
       "1          A         S  31122999  ...  ATO                0   \n",
       "2          A         S  31122999  ...  ATO                0   \n",
       "3          A         S  31122999  ...  ATO                0   \n",
       "4          A         S  31122999  ...  ATO                0   \n",
       "\n",
       "  non_standard_disc_ind publication_ind  flow_id               records_y  \\\n",
       "0                     1               Y  0000002  RT00000027TF00005420     \n",
       "1                     1               Y  0000002  RT00000027TS00003610     \n",
       "2                     1               Y  0000034  RT00000347TF00006360     \n",
       "3                     1               Y  0000034  RT00000347TS00004240     \n",
       "4                     1               Y  0000121  RT00001217TF00007790     \n",
       "\n",
       "  record_type_y ticket_code      fare restriction_code  \n",
       "0             T         7TF  00005420                   \n",
       "1             T         7TS  00003610                   \n",
       "2             T         7TF  00006360                   \n",
       "3             T         7TS  00004240                   \n",
       "4             T         7TF  00007790                   \n",
       "\n",
       "[5 rows x 21 columns]"
      ]
     },
     "execution_count": 8,
     "metadata": {},
     "output_type": "execute_result"
    }
   ],
   "source": [
    "merged_data.head()"
   ]
  },
  {
   "cell_type": "markdown",
   "metadata": {},
   "source": [
    "## Locations file\n",
    "Locations, including group locations"
   ]
  },
  {
   "cell_type": "code",
   "execution_count": 9,
   "metadata": {},
   "outputs": [],
   "source": [
    "locations_file = pd.read_table(\"../data/RJFAF575/RJFAF575.LOC\")"
   ]
  },
  {
   "cell_type": "code",
   "execution_count": 10,
   "metadata": {},
   "outputs": [],
   "source": [
    "locations_file.rename(\n",
    "    columns={'/!! Start of file                                                               ':\"records\"},\n",
    "    inplace=True)"
   ]
  },
  {
   "cell_type": "code",
   "execution_count": 11,
   "metadata": {},
   "outputs": [],
   "source": [
    "lengths_of_records_locations = locations_file[\"records\"].str.len()"
   ]
  },
  {
   "cell_type": "code",
   "execution_count": 12,
   "metadata": {},
   "outputs": [],
   "source": [
    "locations_records = create_records_table(\n",
    "    relevant_dictionary=dicts.dictionary_locations,\n",
    "    table_with_records=locations_file, \n",
    "    lengths_of_records=lengths_of_records_locations)"
   ]
  },
  {
   "cell_type": "code",
   "execution_count": 13,
   "metadata": {},
   "outputs": [],
   "source": [
    "associated_stations_records = create_records_table(\n",
    "    relevant_dictionary=dicts.dict_associated_stations,\n",
    "    table_with_records=locations_file, \n",
    "    lengths_of_records=lengths_of_records_locations)"
   ]
  },
  {
   "cell_type": "code",
   "execution_count": 14,
   "metadata": {},
   "outputs": [],
   "source": [
    "synonym_records = create_records_table(\n",
    "    relevant_dictionary=dicts.dict_synonym,\n",
    "    table_with_records=locations_file, \n",
    "    lengths_of_records=lengths_of_records_locations)"
   ]
  },
  {
   "cell_type": "markdown",
   "metadata": {},
   "source": [
    "### Routes"
   ]
  },
  {
   "cell_type": "code",
   "execution_count": 15,
   "metadata": {},
   "outputs": [],
   "source": [
    "routes_file = pd.read_table(\"../data/RJFAF575/RJFAF575.RTE\")"
   ]
  },
  {
   "cell_type": "code",
   "execution_count": 16,
   "metadata": {},
   "outputs": [],
   "source": [
    "routes_file.rename(\n",
    "    columns={'/!! Start of file                                                               ':\"records\"},\n",
    "    inplace=True)"
   ]
  },
  {
   "cell_type": "code",
   "execution_count": 17,
   "metadata": {},
   "outputs": [],
   "source": [
    "lengths_of_records_routes = routes_file[\"records\"].str.len()"
   ]
  },
  {
   "cell_type": "code",
   "execution_count": 18,
   "metadata": {},
   "outputs": [],
   "source": [
    "routes_records = create_records_table(\n",
    "    relevant_dictionary=dicts.dict_routes,\n",
    "    table_with_records=routes_file, \n",
    "    lengths_of_records=lengths_of_records_routes)\n",
    "\n",
    "route_excl_records = create_records_table(\n",
    "    relevant_dictionary=dicts.dict_route_exclusions,\n",
    "    table_with_records=routes_file, \n",
    "    lengths_of_records=lengths_of_records_routes)"
   ]
  }
 ],
 "metadata": {
  "kernelspec": {
   "display_name": "Python 3.8.3 64-bit ('.venv': venv)",
   "language": "python",
   "name": "python38364bitvenvvenvf21172dcc1f843adae9f5a782af609e9"
  },
  "language_info": {
   "codemirror_mode": {
    "name": "ipython",
    "version": 3
   },
   "file_extension": ".py",
   "mimetype": "text/x-python",
   "name": "python",
   "nbconvert_exporter": "python",
   "pygments_lexer": "ipython3",
   "version": "3.8.3"
  }
 },
 "nbformat": 4,
 "nbformat_minor": 4
}
